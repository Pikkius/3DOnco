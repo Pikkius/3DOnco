{
 "cells": [
  {
   "cell_type": "code",
   "execution_count": 9,
   "metadata": {},
   "outputs": [],
   "source": [
    "from sklearn.model_selection import train_test_split\n",
    "from sklearn.ensemble import RandomForestClassifier\n",
    "from sklearn.model_selection import cross_validate\n",
    "from sklearn.model_selection import GridSearchCV\n",
    "from sklearn.metrics import accuracy_score\n",
    "from sklearn.metrics import confusion_matrix\n",
    "import seaborn as sns\n",
    "import matplotlib.pyplot as plt\n",
    "from sklearn.svm import SVC\n",
    "import os\n",
    "import numpy as np\n",
    "from sklearn.svm import LinearSVC\n",
    "from sklearn.decomposition import PCA\n",
    "from collections import Counter"
   ]
  },
  {
   "cell_type": "code",
   "execution_count": 11,
   "metadata": {},
   "outputs": [
    {
     "name": "stdout",
     "output_type": "stream",
     "text": [
      "Archive:  Fastas_test1.zip\n",
      "replace content/drive/MyDrive/Fastas_test1/0_CSNK2B_NDUFA6/0_CSNK2B_NDUFA6.fa? [y]es, [n]o, [A]ll, [N]one, [r]ename: ^C\n"
     ]
    }
   ],
   "source": [
    "!unzip Fastas_test1.zip\n"
   ]
  },
  {
   "cell_type": "code",
   "execution_count": null,
   "metadata": {},
   "outputs": [],
   "source": [
    "y"
   ]
  },
  {
   "cell_type": "code",
   "execution_count": 2,
   "metadata": {},
   "outputs": [
    {
     "name": "stdout",
     "output_type": "stream",
     "text": [
      "Si comincia!\n"
     ]
    }
   ],
   "source": [
    "import os\n",
    "import numpy as np\n",
    "print('Si comincia!')\n",
    "matrices = []\n",
    "labels = []\n",
    "sequences=[]\n",
    "n = 0\n",
    "seq_len = 750\n",
    "root = 'Fastas'\n",
    "headers=[]\n",
    "def padding(matrix,seq, seq_len):\n",
    "  matrix = np.pad(matrix,((0, 0), (0, seq_len - matrix.shape[1]), (0, seq_len - matrix.shape[2])),constant_values=(-55,-55))\n",
    "  seq = np.pad(seq,pad_width=((0, seq_len - len(seq))),constant_values=-55)\n",
    "  \n",
    "  return matrix,seq\n",
    "\n",
    "\n",
    "\n",
    "\n",
    "\n",
    "def crop(matrix,seq, protein_len):\n",
    "  index_start = np.random.randint(0, protein_len - seq_len)\n",
    "  seq = seq[index_start:index_start+seq_len]\n",
    "  \n",
    "  matrix = matrix[:, index_start:index_start+seq_len, index_start:index_start+seq_len]\n",
    "  return matrix,seq\n",
    "\n",
    "for el in list(os.listdir(root)):\n",
    "  name_pkl = root+'/'+el+'/'+el+'_prediction.pkl'\n",
    "  name_fa = root+'/'+el+'/'+el+'.fa'\n",
    "  if os.path.isfile(name_pkl):\n",
    "    pkl = np.load(name_pkl, allow_pickle=True)\n",
    "    \n",
    "    sequence = pkl['ss']\n",
    "    protein_len = sequence.shape[1]\n",
    "    \n",
    "    sequence=list(pkl['seq'])\n",
    "    \n",
    "    matrix = pkl['dist']\n",
    "    if protein_len < seq_len:\n",
    "        matrix,sequence = padding(matrix,sequence, seq_len)\n",
    "        \n",
    "    if protein_len > seq_len:\n",
    "        \n",
    "        matrix,sequence = crop(matrix,sequence, protein_len)\n",
    "        \n",
    "    distbin = np.zeros_like(matrix[0])\n",
    "    for i in range(10):\n",
    "      distbin += pkl['dist_bin_map'][i]*matrix[i]\n",
    "    matrices.append(np.array(distbin).flatten())\n",
    "    sequences.append(np.copy(sequence))\n",
    "    with open(name_fa, 'r') as f:\n",
    "      header=str(f.readlines())\n",
    "      headers.append(header)\n",
    "      label = int((header.split(',')[1]).split(':')[1])\n",
    "      labels.append(label)\n",
    "      \n",
    "    n += 1\n",
    "dataset=np.vstack(matrices)\n",
    "\n",
    "sequences=np.vstack(sequences)"
   ]
  },
  {
   "cell_type": "code",
   "execution_count": 10,
   "metadata": {},
   "outputs": [
    {
     "data": {
      "text/plain": [
       "Counter({0: 546, 1: 456})"
      ]
     },
     "execution_count": 10,
     "metadata": {},
     "output_type": "execute_result"
    }
   ],
   "source": [
    "Counter(labels)"
   ]
  },
  {
   "cell_type": "code",
   "execution_count": 3,
   "metadata": {},
   "outputs": [
    {
     "data": {
      "text/plain": [
       "array([['M', 'K', 'S', ..., '-', '-', '-'],\n",
       "       ['M', 'K', 'S', ..., '-', '-', '-'],\n",
       "       ['M', 'V', 'H', ..., '-', '-', '-'],\n",
       "       ...,\n",
       "       ['M', 'L', 'L', ..., '-', '-', '-'],\n",
       "       ['M', 'P', 'Y', ..., '-', '-', '-'],\n",
       "       ['M', 'L', 'L', ..., '-', '-', '-']], dtype='<U1')"
      ]
     },
     "execution_count": 3,
     "metadata": {},
     "output_type": "execute_result"
    }
   ],
   "source": [
    "np.stack(sequences)"
   ]
  },
  {
   "cell_type": "code",
   "execution_count": 4,
   "metadata": {},
   "outputs": [],
   "source": [
    "X_train,X_test, y_train,y_test= train_test_split(dataset,labels, stratify=labels, test_size=0.2)"
   ]
  },
  {
   "cell_type": "code",
   "execution_count": 7,
   "metadata": {},
   "outputs": [
    {
     "name": "stdout",
     "output_type": "stream",
     "text": [
      "For Random Forest\n",
      "RandomForestClassifier(bootstrap=False, random_state=1)\n",
      "0.9076082932247316\n",
      "On the test set :0.8702702702702703\n"
     ]
    },
    {
     "data": {
      "image/png": "[encoded data removed]",
      "text/plain": [
       "<Figure size 576x576 with 2 Axes>"
      ]
     },
     "metadata": {
      "needs_background": "light"
     },
     "output_type": "display_data"
    }
   ],
   "source": [
    "model=RandomForestClassifier()\n",
    "params = {\n",
    "        'criterion': [\"gini\", \"entropy\"],\n",
    "        'max_features': [\"auto\", \"sqrt\", \"log2\"],\n",
    "        'random_state': [1],\n",
    "        'bootstrap': [True, False]\n",
    "    }\n",
    "print(f'For Random Forest')\n",
    "clf = GridSearchCV(model, params,cv=10)\n",
    "clf.fit(X_train, y_train)\n",
    "print(clf.best_estimator_)\n",
    "print(clf.best_score_)\n",
    "y_pred=clf.predict(X_test)\n",
    "print(f'On the test set :{accuracy_score(y_test,y_pred)}')\n",
    "fig,ax= plt.subplots(figsize=(5,5))\n",
    "sns.heatmap(confusion_matrix(y_test,y_pred),annot=True)\n",
    "plt.xlabel('True')\n",
    "plt.ylabel('Predicted')\n",
    "plt.savefig('fig/conf_matrix_rf.png')\n",
    "plt.show()"
   ]
  },
  {
   "cell_type": "code",
   "execution_count": 6,
   "metadata": {},
   "outputs": [],
   "source": []
  },
  {
   "cell_type": "code",
   "execution_count": null,
   "metadata": {},
   "outputs": [
    {
     "name": "stdout",
     "output_type": "stream",
     "text": [
      "For linear SVC\n"
     ]
    },
    {
     "name": "stderr",
     "output_type": "stream",
     "text": [
      "/opt/conda/lib/python3.7/site-packages/sklearn/svm/_base.py:977: ConvergenceWarning: Liblinear failed to converge, increase the number of iterations.\n",
      "  \"the number of iterations.\", ConvergenceWarning)\n",
      "/opt/conda/lib/python3.7/site-packages/sklearn/svm/_base.py:977: ConvergenceWarning: Liblinear failed to converge, increase the number of iterations.\n",
      "  \"the number of iterations.\", ConvergenceWarning)\n",
      "/opt/conda/lib/python3.7/site-packages/sklearn/svm/_base.py:977: ConvergenceWarning: Liblinear failed to converge, increase the number of iterations.\n",
      "  \"the number of iterations.\", ConvergenceWarning)\n"
     ]
    }
   ],
   "source": [
    "model= LinearSVC()\n",
    "params = {\n",
    "    \n",
    "    'C' : [ 0.1, 1, 10, 1000],\n",
    "    \n",
    "}\n",
    "print(f'For linear SVC')\n",
    "clf = GridSearchCV(model, params,cv=10)\n",
    "clf.fit(X_train, y_train)\n",
    "print(clf.best_estimator_)\n",
    "print(clf.best_score_)\n",
    "y_pred=clf.predict(X_test)\n",
    "print(f'On the test set :{accuracy_score(y_test,y_pred)}')\n",
    "fig,ax= plt.subplots(figsize=(8,8))\n",
    "sns.heatmap(confusion_matrix(y_test,y_pred),annot=True)\n",
    "plt.xlabel('True')\n",
    "plt.ylabel('Predicted')\n",
    "plt.savefig('fig/conf_matrix_linearsvc.png')\n",
    "plt.show()"
   ]
  },
  {
   "cell_type": "code",
   "execution_count": null,
   "metadata": {},
   "outputs": [],
   "source": [
    "import os\n",
    "import numpy as np\n",
    "print('Si comincia!')\n",
    "matrices = []\n",
    "labels = []\n",
    "sequences=[]\n",
    "n = 0\n",
    "seq_len = 1000\n",
    "root = 'Fastas'\n",
    "numbers=[]\n",
    "def padding(seq, seq_len):\n",
    "  #matrix = np.pad(matrix,((0, 0), (0, seq_len - matrix.shape[1]), (0, seq_len - matrix.shape[2])),constant_values=(-55,-55))\n",
    "  buco= int(seq_len - len(seq))\n",
    "  padding= 'X' * buco\n",
    "  \n",
    "  seq=seq+padding\n",
    "  \n",
    "  \n",
    "  return seq\n",
    "\n",
    "\n",
    "\n",
    "\n",
    "\n",
    "def crop(seq, protein_len):\n",
    "  index_start = np.random.randint(0, protein_len - seq_len)\n",
    "  seq = seq[index_start:index_start+seq_len]\n",
    "  \n",
    "  #matrix = matrix[:, index_start:index_start+seq_len, index_start:index_start+seq_len]\n",
    "  return seq\n",
    "\n",
    "for el in list(os.listdir(root)):\n",
    "  name_pkl = root+'/'+el+'/'+el+'_prediction.pkl'\n",
    "  name_fa = root+'/'+el+'/'+el+'.fa'\n",
    "    \n",
    "  if os.path.isfile(name_fa):\n",
    "      numbers.append(int(el.split('_')[0]))\n",
    "      with open(name_fa, 'r') as f:\n",
    "          header = str(f.readlines())\n",
    "          label = (header.split(',')[1]).split(':')[1]\n",
    "          labels.append(label)\n",
    "          \n",
    "          sequence=header.split(',')[14]\n",
    "          sequence=str(sequence[3:-2])\n",
    "          #print(len(sequence))\n",
    "          protein_len=len(sequence)\n",
    "          \n",
    "          if protein_len < seq_len:\n",
    "              sequence = padding(sequence, seq_len)\n",
    "\n",
    "          if protein_len > seq_len:\n",
    "\n",
    "              sequence = crop(sequence, protein_len)\n",
    "          \n",
    "\n",
    "      sequences.append(sequence)\n",
    "    \n",
    "print('fine')\n",
    "    \n",
    "\n"
   ]
  },
  {
   "cell_type": "code",
   "execution_count": 16,
   "metadata": {},
   "outputs": [
    {
     "data": {
      "text/plain": [
       "array([[0., 0., 0., ..., 0., 0., 0.],\n",
       "       [0., 0., 0., ..., 1., 1., 1.],\n",
       "       [1., 0., 0., ..., 0., 0., 0.],\n",
       "       ...,\n",
       "       [0., 0., 0., ..., 1., 1., 1.],\n",
       "       [0., 0., 0., ..., 0., 0., 0.],\n",
       "       [0., 0., 0., ..., 1., 1., 1.]])"
      ]
     },
     "execution_count": 16,
     "metadata": {},
     "output_type": "execute_result"
    }
   ],
   "source": [
    "def create_sequence_matrix(sequence):\n",
    "    encoding = {\n",
    "        \"A\": 0, \"C\": 1, \"D\": 2,\n",
    "        \"E\": 3, \"F\": 4, \"G\": 5,\n",
    "        \"H\": 6, \"I\": 7, \"K\": 8,\n",
    "        \"L\": 9, \"M\": 10, \"N\": 11,\n",
    "        \"P\": 12, \"Q\": 13, \"R\": 14,\n",
    "        \"S\": 15, \"T\": 16, \"V\": 17,\n",
    "        \"W\": 18, \"Y\": 19, \"X\":20,\n",
    "    }\n",
    "    sequence=(str(sequence)[2:-2]).strip()\n",
    "    matrix = np.zeros((21, len(sequence)))\n",
    "    \n",
    "    for index, el in enumerate(sequence):\n",
    "        if el!='\\\\' and el!='n':\n",
    "        \n",
    "            matrix[encoding[el]][index] = 1\n",
    "\n",
    "    return matrix\n",
    "\n",
    "seq_conv=list(map(lambda x: create_sequence_matrix(x).flatten(), sequences))\n",
    "#seq_conv\n",
    "np.vstack(seq_conv)"
   ]
  },
  {
   "cell_type": "code",
   "execution_count": 28,
   "metadata": {},
   "outputs": [
    {
     "name": "stdout",
     "output_type": "stream",
     "text": [
      "For Random Forest\n",
      "RandomForestClassifier(criterion='entropy', random_state=1)\n",
      "0.8715186213277816\n",
      "On the test set :0.9027355623100304\n"
     ]
    },
    {
     "data": {
      "image/png": "[encoded data removed]",
      "text/plain": [
       "<Figure size 360x360 with 2 Axes>"
      ]
     },
     "metadata": {
      "needs_background": "light"
     },
     "output_type": "display_data"
    }
   ],
   "source": [
    "#SEQUENCES\n",
    "\n",
    "X_train,X_test, y_train,y_test= train_test_split(seq_conv,labels, stratify=labels, test_size=0.2)\n",
    "\n",
    "model=RandomForestClassifier()\n",
    "params = {\n",
    "        'criterion': [\"gini\", \"entropy\"],\n",
    "        'max_features': [\"auto\", \"sqrt\", \"log2\"],\n",
    "        'random_state': [1],\n",
    "        'bootstrap': [True, False]\n",
    "    }\n",
    "print(f'For Random Forest')\n",
    "clf = GridSearchCV(model, params,cv=10)\n",
    "clf.fit(X_train, y_train)\n",
    "print(clf.best_estimator_)\n",
    "print(clf.best_score_)\n",
    "y_pred=clf.predict(X_test)\n",
    "print(f'On the test set :{accuracy_score(y_test,y_pred)}')\n",
    "fig,ax= plt.subplots(figsize=(5,5))\n",
    "sns.heatmap(confusion_matrix(y_test,y_pred),annot=True)\n",
    "plt.xlabel('True')\n",
    "plt.ylabel('Predicted')\n",
    "plt.savefig('fig/conf_seq_rf.png')\n",
    "plt.show()"
   ]
  },
  {
   "cell_type": "code",
   "execution_count": 30,
   "metadata": {},
   "outputs": [
    {
     "name": "stdout",
     "output_type": "stream",
     "text": [
      "For linear SVC\n"
     ]
    },
    {
     "name": "stderr",
     "output_type": "stream",
     "text": [
      "/opt/conda/lib/python3.7/site-packages/sklearn/svm/_base.py:977: ConvergenceWarning: Liblinear failed to converge, increase the number of iterations.\n",
      "  \"the number of iterations.\", ConvergenceWarning)\n",
      "/opt/conda/lib/python3.7/site-packages/sklearn/svm/_base.py:977: ConvergenceWarning: Liblinear failed to converge, increase the number of iterations.\n",
      "  \"the number of iterations.\", ConvergenceWarning)\n",
      "/opt/conda/lib/python3.7/site-packages/sklearn/svm/_base.py:977: ConvergenceWarning: Liblinear failed to converge, increase the number of iterations.\n",
      "  \"the number of iterations.\", ConvergenceWarning)\n",
      "/opt/conda/lib/python3.7/site-packages/sklearn/svm/_base.py:977: ConvergenceWarning: Liblinear failed to converge, increase the number of iterations.\n",
      "  \"the number of iterations.\", ConvergenceWarning)\n",
      "/opt/conda/lib/python3.7/site-packages/sklearn/svm/_base.py:977: ConvergenceWarning: Liblinear failed to converge, increase the number of iterations.\n",
      "  \"the number of iterations.\", ConvergenceWarning)\n",
      "/opt/conda/lib/python3.7/site-packages/sklearn/svm/_base.py:977: ConvergenceWarning: Liblinear failed to converge, increase the number of iterations.\n",
      "  \"the number of iterations.\", ConvergenceWarning)\n",
      "/opt/conda/lib/python3.7/site-packages/sklearn/svm/_base.py:977: ConvergenceWarning: Liblinear failed to converge, increase the number of iterations.\n",
      "  \"the number of iterations.\", ConvergenceWarning)\n",
      "/opt/conda/lib/python3.7/site-packages/sklearn/svm/_base.py:977: ConvergenceWarning: Liblinear failed to converge, increase the number of iterations.\n",
      "  \"the number of iterations.\", ConvergenceWarning)\n",
      "/opt/conda/lib/python3.7/site-packages/sklearn/svm/_base.py:977: ConvergenceWarning: Liblinear failed to converge, increase the number of iterations.\n",
      "  \"the number of iterations.\", ConvergenceWarning)\n",
      "/opt/conda/lib/python3.7/site-packages/sklearn/svm/_base.py:977: ConvergenceWarning: Liblinear failed to converge, increase the number of iterations.\n",
      "  \"the number of iterations.\", ConvergenceWarning)\n",
      "/opt/conda/lib/python3.7/site-packages/sklearn/svm/_base.py:977: ConvergenceWarning: Liblinear failed to converge, increase the number of iterations.\n",
      "  \"the number of iterations.\", ConvergenceWarning)\n",
      "/opt/conda/lib/python3.7/site-packages/sklearn/svm/_base.py:977: ConvergenceWarning: Liblinear failed to converge, increase the number of iterations.\n",
      "  \"the number of iterations.\", ConvergenceWarning)\n",
      "/opt/conda/lib/python3.7/site-packages/sklearn/svm/_base.py:977: ConvergenceWarning: Liblinear failed to converge, increase the number of iterations.\n",
      "  \"the number of iterations.\", ConvergenceWarning)\n",
      "/opt/conda/lib/python3.7/site-packages/sklearn/svm/_base.py:977: ConvergenceWarning: Liblinear failed to converge, increase the number of iterations.\n",
      "  \"the number of iterations.\", ConvergenceWarning)\n",
      "/opt/conda/lib/python3.7/site-packages/sklearn/svm/_base.py:977: ConvergenceWarning: Liblinear failed to converge, increase the number of iterations.\n",
      "  \"the number of iterations.\", ConvergenceWarning)\n",
      "/opt/conda/lib/python3.7/site-packages/sklearn/svm/_base.py:977: ConvergenceWarning: Liblinear failed to converge, increase the number of iterations.\n",
      "  \"the number of iterations.\", ConvergenceWarning)\n",
      "/opt/conda/lib/python3.7/site-packages/sklearn/svm/_base.py:977: ConvergenceWarning: Liblinear failed to converge, increase the number of iterations.\n",
      "  \"the number of iterations.\", ConvergenceWarning)\n",
      "/opt/conda/lib/python3.7/site-packages/sklearn/svm/_base.py:977: ConvergenceWarning: Liblinear failed to converge, increase the number of iterations.\n",
      "  \"the number of iterations.\", ConvergenceWarning)\n",
      "/opt/conda/lib/python3.7/site-packages/sklearn/svm/_base.py:977: ConvergenceWarning: Liblinear failed to converge, increase the number of iterations.\n",
      "  \"the number of iterations.\", ConvergenceWarning)\n",
      "/opt/conda/lib/python3.7/site-packages/sklearn/svm/_base.py:977: ConvergenceWarning: Liblinear failed to converge, increase the number of iterations.\n",
      "  \"the number of iterations.\", ConvergenceWarning)\n",
      "/opt/conda/lib/python3.7/site-packages/sklearn/svm/_base.py:977: ConvergenceWarning: Liblinear failed to converge, increase the number of iterations.\n",
      "  \"the number of iterations.\", ConvergenceWarning)\n",
      "/opt/conda/lib/python3.7/site-packages/sklearn/svm/_base.py:977: ConvergenceWarning: Liblinear failed to converge, increase the number of iterations.\n",
      "  \"the number of iterations.\", ConvergenceWarning)\n",
      "/opt/conda/lib/python3.7/site-packages/sklearn/svm/_base.py:977: ConvergenceWarning: Liblinear failed to converge, increase the number of iterations.\n",
      "  \"the number of iterations.\", ConvergenceWarning)\n",
      "/opt/conda/lib/python3.7/site-packages/sklearn/svm/_base.py:977: ConvergenceWarning: Liblinear failed to converge, increase the number of iterations.\n",
      "  \"the number of iterations.\", ConvergenceWarning)\n",
      "/opt/conda/lib/python3.7/site-packages/sklearn/svm/_base.py:977: ConvergenceWarning: Liblinear failed to converge, increase the number of iterations.\n",
      "  \"the number of iterations.\", ConvergenceWarning)\n",
      "/opt/conda/lib/python3.7/site-packages/sklearn/svm/_base.py:977: ConvergenceWarning: Liblinear failed to converge, increase the number of iterations.\n",
      "  \"the number of iterations.\", ConvergenceWarning)\n",
      "/opt/conda/lib/python3.7/site-packages/sklearn/svm/_base.py:977: ConvergenceWarning: Liblinear failed to converge, increase the number of iterations.\n",
      "  \"the number of iterations.\", ConvergenceWarning)\n",
      "/opt/conda/lib/python3.7/site-packages/sklearn/svm/_base.py:977: ConvergenceWarning: Liblinear failed to converge, increase the number of iterations.\n",
      "  \"the number of iterations.\", ConvergenceWarning)\n",
      "/opt/conda/lib/python3.7/site-packages/sklearn/svm/_base.py:977: ConvergenceWarning: Liblinear failed to converge, increase the number of iterations.\n",
      "  \"the number of iterations.\", ConvergenceWarning)\n",
      "/opt/conda/lib/python3.7/site-packages/sklearn/svm/_base.py:977: ConvergenceWarning: Liblinear failed to converge, increase the number of iterations.\n",
      "  \"the number of iterations.\", ConvergenceWarning)\n",
      "/opt/conda/lib/python3.7/site-packages/sklearn/svm/_base.py:977: ConvergenceWarning: Liblinear failed to converge, increase the number of iterations.\n",
      "  \"the number of iterations.\", ConvergenceWarning)\n",
      "/opt/conda/lib/python3.7/site-packages/sklearn/svm/_base.py:977: ConvergenceWarning: Liblinear failed to converge, increase the number of iterations.\n",
      "  \"the number of iterations.\", ConvergenceWarning)\n",
      "/opt/conda/lib/python3.7/site-packages/sklearn/svm/_base.py:977: ConvergenceWarning: Liblinear failed to converge, increase the number of iterations.\n",
      "  \"the number of iterations.\", ConvergenceWarning)\n",
      "/opt/conda/lib/python3.7/site-packages/sklearn/svm/_base.py:977: ConvergenceWarning: Liblinear failed to converge, increase the number of iterations.\n",
      "  \"the number of iterations.\", ConvergenceWarning)\n",
      "/opt/conda/lib/python3.7/site-packages/sklearn/svm/_base.py:977: ConvergenceWarning: Liblinear failed to converge, increase the number of iterations.\n",
      "  \"the number of iterations.\", ConvergenceWarning)\n",
      "/opt/conda/lib/python3.7/site-packages/sklearn/svm/_base.py:977: ConvergenceWarning: Liblinear failed to converge, increase the number of iterations.\n",
      "  \"the number of iterations.\", ConvergenceWarning)\n",
      "/opt/conda/lib/python3.7/site-packages/sklearn/svm/_base.py:977: ConvergenceWarning: Liblinear failed to converge, increase the number of iterations.\n",
      "  \"the number of iterations.\", ConvergenceWarning)\n",
      "/opt/conda/lib/python3.7/site-packages/sklearn/svm/_base.py:977: ConvergenceWarning: Liblinear failed to converge, increase the number of iterations.\n",
      "  \"the number of iterations.\", ConvergenceWarning)\n",
      "/opt/conda/lib/python3.7/site-packages/sklearn/svm/_base.py:977: ConvergenceWarning: Liblinear failed to converge, increase the number of iterations.\n",
      "  \"the number of iterations.\", ConvergenceWarning)\n",
      "/opt/conda/lib/python3.7/site-packages/sklearn/svm/_base.py:977: ConvergenceWarning: Liblinear failed to converge, increase the number of iterations.\n",
      "  \"the number of iterations.\", ConvergenceWarning)\n",
      "/opt/conda/lib/python3.7/site-packages/sklearn/svm/_base.py:977: ConvergenceWarning: Liblinear failed to converge, increase the number of iterations.\n",
      "  \"the number of iterations.\", ConvergenceWarning)\n",
      "/opt/conda/lib/python3.7/site-packages/sklearn/svm/_base.py:977: ConvergenceWarning: Liblinear failed to converge, increase the number of iterations.\n",
      "  \"the number of iterations.\", ConvergenceWarning)\n",
      "/opt/conda/lib/python3.7/site-packages/sklearn/svm/_base.py:977: ConvergenceWarning: Liblinear failed to converge, increase the number of iterations.\n",
      "  \"the number of iterations.\", ConvergenceWarning)\n",
      "/opt/conda/lib/python3.7/site-packages/sklearn/svm/_base.py:977: ConvergenceWarning: Liblinear failed to converge, increase the number of iterations.\n",
      "  \"the number of iterations.\", ConvergenceWarning)\n",
      "/opt/conda/lib/python3.7/site-packages/sklearn/svm/_base.py:977: ConvergenceWarning: Liblinear failed to converge, increase the number of iterations.\n",
      "  \"the number of iterations.\", ConvergenceWarning)\n",
      "/opt/conda/lib/python3.7/site-packages/sklearn/svm/_base.py:977: ConvergenceWarning: Liblinear failed to converge, increase the number of iterations.\n",
      "  \"the number of iterations.\", ConvergenceWarning)\n",
      "/opt/conda/lib/python3.7/site-packages/sklearn/svm/_base.py:977: ConvergenceWarning: Liblinear failed to converge, increase the number of iterations.\n",
      "  \"the number of iterations.\", ConvergenceWarning)\n",
      "/opt/conda/lib/python3.7/site-packages/sklearn/svm/_base.py:977: ConvergenceWarning: Liblinear failed to converge, increase the number of iterations.\n",
      "  \"the number of iterations.\", ConvergenceWarning)\n",
      "/opt/conda/lib/python3.7/site-packages/sklearn/svm/_base.py:977: ConvergenceWarning: Liblinear failed to converge, increase the number of iterations.\n",
      "  \"the number of iterations.\", ConvergenceWarning)\n",
      "/opt/conda/lib/python3.7/site-packages/sklearn/svm/_base.py:977: ConvergenceWarning: Liblinear failed to converge, increase the number of iterations.\n",
      "  \"the number of iterations.\", ConvergenceWarning)\n"
     ]
    },
    {
     "name": "stdout",
     "output_type": "stream",
     "text": [
      "LinearSVC(C=0.01)\n",
      "0.8699629886652787\n",
      "On the test set :0.9057750759878419\n"
     ]
    },
    {
     "data": {
      "image/png": "[encoded data removed]",
      "text/plain": [
       "<Figure size 576x576 with 2 Axes>"
      ]
     },
     "metadata": {
      "needs_background": "light"
     },
     "output_type": "display_data"
    }
   ],
   "source": [
    "model= LinearSVC()\n",
    "params = {\n",
    "    \n",
    "    'C' : [0.0001, 0.01, 0.1, 1, 10, 100, 1000],\n",
    "    \n",
    "}\n",
    "print(f'For linear SVC')\n",
    "clf = GridSearchCV(model, params,cv=10)\n",
    "clf.fit(X_train, y_train)\n",
    "print(clf.best_estimator_)\n",
    "print(clf.best_score_)\n",
    "y_pred=clf.predict(X_test)\n",
    "print(f'On the test set :{accuracy_score(y_test,y_pred)}')\n",
    "fig,ax= plt.subplots(figsize=(8,8))\n",
    "sns.heatmap(confusion_matrix(y_test,y_pred),annot=True)\n",
    "plt.xlabel('True')\n",
    "plt.ylabel('Predicted')\n",
    "plt.savefig('fig/conf_seq_linearsvc.png')\n",
    "plt.show()"
   ]
  },
  {
   "cell_type": "code",
   "execution_count": null,
   "metadata": {},
   "outputs": [],
   "source": [
    "out_path='output.txt'\n",
    "with open(out_path,'+w') as f:\n",
    "    for i in range(y_pred_proba):\n",
    "        f.writeline(f'{header[i]},{y_pred_proba[i]}')"
   ]
  }
 ],
 "metadata": {
  "kernelspec": {
   "display_name": "Python 3",
   "language": "python",
   "name": "python3"
  },
  "language_info": {
   "codemirror_mode": {
    "name": "ipython",
    "version": 3
   },
   "file_extension": ".py",
   "mimetype": "text/x-python",
   "name": "python",
   "nbconvert_exporter": "python",
   "pygments_lexer": "ipython3",
   "version": "3.7.8"
  }
 },
 "nbformat": 4,
 "nbformat_minor": 4
}
