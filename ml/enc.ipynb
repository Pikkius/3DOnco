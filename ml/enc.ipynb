{
 "cells": [
  {
   "cell_type": "code",
   "execution_count": 1,
   "metadata": {},
   "outputs": [
    {
     "name": "stdout",
     "output_type": "stream",
     "text": [
      "Collecting gensim==3.4.0\n",
      "  Downloading gensim-3.4.0.tar.gz (22.2 MB)\n",
      "\u001b[K     |████████████████████████████████| 22.2 MB 4.3 MB/s eta 0:00:01\n",
      "\u001b[?25hRequirement already satisfied: numpy>=1.11.3 in /opt/conda/lib/python3.7/site-packages (from gensim==3.4.0) (1.19.1)\n",
      "Requirement already satisfied: scipy>=0.18.1 in /opt/conda/lib/python3.7/site-packages (from gensim==3.4.0) (1.5.2)\n",
      "Requirement already satisfied: six>=1.5.0 in /opt/conda/lib/python3.7/site-packages (from gensim==3.4.0) (1.15.0)\n",
      "Collecting smart_open>=1.2.1\n",
      "  Downloading smart_open-5.1.0-py3-none-any.whl (57 kB)\n",
      "\u001b[K     |████████████████████████████████| 57 kB 547 kB/s  eta 0:00:01\n",
      "\u001b[?25hBuilding wheels for collected packages: gensim\n",
      "  Building wheel for gensim (setup.py) ... \u001b[?25ldone\n",
      "\u001b[?25h  Created wheel for gensim: filename=gensim-3.4.0-cp37-cp37m-linux_x86_64.whl size=23778410 sha256=50b970758374450357e62d87366479c820775ebb1b753b481020d875799589f4\n",
      "  Stored in directory: /home/ucloud/.cache/pip/wheels/de/a4/46/4e18f7d25915b16e0e790a5362e455aba6cadc486994806c05\n",
      "Successfully built gensim\n",
      "Installing collected packages: smart-open, gensim\n",
      "Successfully installed gensim-3.4.0 smart-open-5.1.0\n",
      "Collecting pyfasta==0.5.2\n",
      "  Downloading pyfasta-0.5.2.tar.gz (19 kB)\n",
      "Building wheels for collected packages: pyfasta\n",
      "  Building wheel for pyfasta (setup.py) ... \u001b[?25ldone\n",
      "\u001b[?25h  Created wheel for pyfasta: filename=pyfasta-0.5.2-py3-none-any.whl size=14225 sha256=239e65252ca713657491f347d9bef1c9219415e0bd3211dedb4dd0072d99a53a\n",
      "  Stored in directory: /home/ucloud/.cache/pip/wheels/57/e5/90/5c791cec27d88e2bcee7e859a6b83e7c7f03d2da494d3e5a8a\n",
      "Successfully built pyfasta\n",
      "Installing collected packages: pyfasta\n",
      "Successfully installed pyfasta-0.5.2\n",
      "Collecting Biopython\n",
      "  Downloading biopython-1.79-cp37-cp37m-manylinux_2_5_x86_64.manylinux1_x86_64.whl (2.3 MB)\n",
      "\u001b[K     |████████████████████████████████| 2.3 MB 4.3 MB/s eta 0:00:01\n",
      "\u001b[?25hRequirement already satisfied: numpy in /opt/conda/lib/python3.7/site-packages (from Biopython) (1.19.1)\n",
      "Installing collected packages: Biopython\n",
      "Successfully installed Biopython-1.79\n",
      "Collecting tensorflow\n",
      "  Downloading tensorflow-2.5.0-cp37-cp37m-manylinux2010_x86_64.whl (454.3 MB)\n",
      "\u001b[K     |████████████████████▉           | 295.7 MB 146.4 MB/s eta 0:00:02"
     ]
    },
    {
     "name": "stderr",
     "output_type": "stream",
     "text": [
      "IOPub data rate exceeded.\n",
      "The notebook server will temporarily stop sending output\n",
      "to the client in order to avoid crashing it.\n",
      "To change this limit, set the config variable\n",
      "`--NotebookApp.iopub_data_rate_limit`.\n",
      "\n",
      "Current values:\n",
      "NotebookApp.iopub_data_rate_limit=1000000.0 (bytes/sec)\n",
      "NotebookApp.rate_limit_window=3.0 (secs)\n",
      "\n"
     ]
    },
    {
     "name": "stdout",
     "output_type": "stream",
     "text": [
      "\u001b[K     |████████████████████████████████| 454.3 MB 35 kB/s \n",
      "\u001b[?25hCollecting numpy~=1.19.2\n",
      "  Downloading numpy-1.19.5-cp37-cp37m-manylinux2010_x86_64.whl (14.8 MB)\n",
      "\u001b[K     |████████████████████████████████| 14.8 MB 31.5 MB/s eta 0:00:01\n",
      "\u001b[?25hCollecting grpcio~=1.34.0\n",
      "  Downloading grpcio-1.34.1-cp37-cp37m-manylinux2014_x86_64.whl (4.0 MB)\n",
      "\u001b[K     |████████████████████████████████| 4.0 MB 23.5 MB/s eta 0:00:01    |▏                               | 20 kB 12.8 MB/s eta 0:00:01\n",
      "\u001b[?25hRequirement already satisfied: typing-extensions~=3.7.4 in /opt/conda/lib/python3.7/site-packages (from tensorflow) (3.7.4.2)\n",
      "Collecting opt-einsum~=3.3.0\n",
      "  Downloading opt_einsum-3.3.0-py3-none-any.whl (65 kB)\n",
      "\u001b[K     |████████████████████████████████| 65 kB 145 kB/s  eta 0:00:01\n",
      "\u001b[?25hCollecting wrapt~=1.12.1\n",
      "  Downloading wrapt-1.12.1.tar.gz (27 kB)\n",
      "Collecting tensorflow-estimator<2.6.0,>=2.5.0rc0\n",
      "  Downloading tensorflow_estimator-2.5.0-py2.py3-none-any.whl (462 kB)\n",
      "\u001b[K     |████████████████████████████████| 462 kB 30.1 MB/s eta 0:00:01\n",
      "\u001b[?25hCollecting keras-nightly~=2.5.0.dev\n",
      "  Downloading keras_nightly-2.5.0.dev2021032900-py2.py3-none-any.whl (1.2 MB)\n",
      "\u001b[K     |████████████████████████████████| 1.2 MB 64.4 MB/s eta 0:00:01\n",
      "\u001b[?25hCollecting tensorboard~=2.5\n",
      "  Downloading tensorboard-2.5.0-py3-none-any.whl (6.0 MB)\n",
      "\u001b[K     |████████████████████████████████| 6.0 MB 82.4 MB/s eta 0:00:01\n",
      "\u001b[?25hRequirement already satisfied: wheel~=0.35 in /opt/conda/lib/python3.7/site-packages (from tensorflow) (0.35.1)\n",
      "Collecting google-pasta~=0.2\n",
      "  Downloading google_pasta-0.2.0-py3-none-any.whl (57 kB)\n",
      "\u001b[K     |████████████████████████████████| 57 kB 2.5 MB/s  eta 0:00:01\n",
      "\u001b[?25hCollecting h5py~=3.1.0\n",
      "  Downloading h5py-3.1.0-cp37-cp37m-manylinux1_x86_64.whl (4.0 MB)\n",
      "\u001b[K     |████████████████████████████████| 4.0 MB 75.9 MB/s eta 0:00:01\n",
      "\u001b[?25hRequirement already satisfied: protobuf>=3.9.2 in /opt/conda/lib/python3.7/site-packages (from tensorflow) (3.12.4)\n",
      "Collecting astunparse~=1.6.3\n",
      "  Downloading astunparse-1.6.3-py2.py3-none-any.whl (12 kB)\n",
      "Requirement already satisfied: six~=1.15.0 in /opt/conda/lib/python3.7/site-packages (from tensorflow) (1.15.0)\n",
      "Collecting flatbuffers~=1.12.0\n",
      "  Downloading flatbuffers-1.12-py2.py3-none-any.whl (15 kB)\n",
      "Collecting termcolor~=1.1.0\n",
      "  Downloading termcolor-1.1.0.tar.gz (3.9 kB)\n",
      "Requirement already satisfied: absl-py~=0.10 in /opt/conda/lib/python3.7/site-packages (from tensorflow) (0.10.0)\n",
      "Collecting keras-preprocessing~=1.1.2\n",
      "  Downloading Keras_Preprocessing-1.1.2-py2.py3-none-any.whl (42 kB)\n",
      "\u001b[K     |████████████████████████████████| 42 kB 465 kB/s  eta 0:00:01\n",
      "\u001b[?25hCollecting gast==0.4.0\n",
      "  Downloading gast-0.4.0-py3-none-any.whl (9.8 kB)\n",
      "Collecting tensorboard-plugin-wit>=1.6.0\n",
      "  Downloading tensorboard_plugin_wit-1.8.0-py3-none-any.whl (781 kB)\n",
      "\u001b[K     |████████████████████████████████| 781 kB 32.9 MB/s eta 0:00:01\n",
      "\u001b[?25hRequirement already satisfied: requests<3,>=2.21.0 in /opt/conda/lib/python3.7/site-packages (from tensorboard~=2.5->tensorflow) (2.24.0)\n",
      "Collecting tensorboard-data-server<0.7.0,>=0.6.0\n",
      "  Downloading tensorboard_data_server-0.6.1-py3-none-manylinux2010_x86_64.whl (4.9 MB)\n",
      "\u001b[K     |████████████████████████████████| 4.9 MB 31.6 MB/s eta 0:00:01\n",
      "\u001b[?25hRequirement already satisfied: werkzeug>=0.11.15 in /opt/conda/lib/python3.7/site-packages (from tensorboard~=2.5->tensorflow) (1.0.1)\n",
      "Requirement already satisfied: google-auth<2,>=1.6.3 in /opt/conda/lib/python3.7/site-packages (from tensorboard~=2.5->tensorflow) (1.21.0)\n",
      "Requirement already satisfied: setuptools>=41.0.0 in /opt/conda/lib/python3.7/site-packages (from tensorboard~=2.5->tensorflow) (49.6.0.post20200814)\n",
      "Requirement already satisfied: markdown>=2.6.8 in /opt/conda/lib/python3.7/site-packages (from tensorboard~=2.5->tensorflow) (3.2.2)\n",
      "Requirement already satisfied: google-auth-oauthlib<0.5,>=0.4.1 in /opt/conda/lib/python3.7/site-packages (from tensorboard~=2.5->tensorflow) (0.4.1)\n",
      "Collecting cached-property; python_version < \"3.8\"\n",
      "  Downloading cached_property-1.5.2-py2.py3-none-any.whl (7.6 kB)\n",
      "Requirement already satisfied: chardet<4,>=3.0.2 in /opt/conda/lib/python3.7/site-packages (from requests<3,>=2.21.0->tensorboard~=2.5->tensorflow) (3.0.4)\n",
      "Requirement already satisfied: idna<3,>=2.5 in /opt/conda/lib/python3.7/site-packages (from requests<3,>=2.21.0->tensorboard~=2.5->tensorflow) (2.10)\n",
      "Requirement already satisfied: certifi>=2017.4.17 in /opt/conda/lib/python3.7/site-packages (from requests<3,>=2.21.0->tensorboard~=2.5->tensorflow) (2020.6.20)\n",
      "Requirement already satisfied: urllib3!=1.25.0,!=1.25.1,<1.26,>=1.21.1 in /opt/conda/lib/python3.7/site-packages (from requests<3,>=2.21.0->tensorboard~=2.5->tensorflow) (1.25.10)\n",
      "Requirement already satisfied: cachetools<5.0,>=2.0.0 in /opt/conda/lib/python3.7/site-packages (from google-auth<2,>=1.6.3->tensorboard~=2.5->tensorflow) (4.1.1)\n",
      "Requirement already satisfied: rsa<5,>=3.1.4; python_version >= \"3.5\" in /opt/conda/lib/python3.7/site-packages (from google-auth<2,>=1.6.3->tensorboard~=2.5->tensorflow) (4.6)\n",
      "Requirement already satisfied: pyasn1-modules>=0.2.1 in /opt/conda/lib/python3.7/site-packages (from google-auth<2,>=1.6.3->tensorboard~=2.5->tensorflow) (0.2.8)\n",
      "Requirement already satisfied: importlib-metadata; python_version < \"3.8\" in /opt/conda/lib/python3.7/site-packages (from markdown>=2.6.8->tensorboard~=2.5->tensorflow) (1.7.0)\n",
      "Requirement already satisfied: requests-oauthlib>=0.7.0 in /opt/conda/lib/python3.7/site-packages (from google-auth-oauthlib<0.5,>=0.4.1->tensorboard~=2.5->tensorflow) (1.3.0)\n",
      "Requirement already satisfied: pyasn1>=0.1.3 in /opt/conda/lib/python3.7/site-packages (from rsa<5,>=3.1.4; python_version >= \"3.5\"->google-auth<2,>=1.6.3->tensorboard~=2.5->tensorflow) (0.4.8)\n",
      "Requirement already satisfied: zipp>=0.5 in /opt/conda/lib/python3.7/site-packages (from importlib-metadata; python_version < \"3.8\"->markdown>=2.6.8->tensorboard~=2.5->tensorflow) (3.1.0)\n",
      "Requirement already satisfied: oauthlib>=3.0.0 in /opt/conda/lib/python3.7/site-packages (from requests-oauthlib>=0.7.0->google-auth-oauthlib<0.5,>=0.4.1->tensorboard~=2.5->tensorflow) (3.0.1)\n",
      "Building wheels for collected packages: wrapt, termcolor\n",
      "  Building wheel for wrapt (setup.py) ... \u001b[?25ldone\n",
      "\u001b[?25h  Created wheel for wrapt: filename=wrapt-1.12.1-cp37-cp37m-linux_x86_64.whl size=77166 sha256=624ee4bd8af34f82822b0eb78e5e5c85d5a04753f42d76f93922e849070d2ddb\n",
      "  Stored in directory: /home/ucloud/.cache/pip/wheels/62/76/4c/aa25851149f3f6d9785f6c869387ad82b3fd37582fa8147ac6\n",
      "  Building wheel for termcolor (setup.py) ... \u001b[?25ldone\n",
      "\u001b[?25h  Created wheel for termcolor: filename=termcolor-1.1.0-py3-none-any.whl size=4830 sha256=8fe677581d45d075afd421b7192e57e971e6e63b581f6c8b3d009d149a3f55ed\n",
      "  Stored in directory: /home/ucloud/.cache/pip/wheels/3f/e3/ec/8a8336ff196023622fbcb36de0c5a5c218cbb24111d1d4c7f2\n",
      "Successfully built wrapt termcolor\n",
      "Installing collected packages: numpy, grpcio, opt-einsum, wrapt, tensorflow-estimator, keras-nightly, tensorboard-plugin-wit, tensorboard-data-server, tensorboard, google-pasta, cached-property, h5py, astunparse, flatbuffers, termcolor, keras-preprocessing, gast, tensorflow\n",
      "  Attempting uninstall: numpy\n",
      "    Found existing installation: numpy 1.19.1\n",
      "    Uninstalling numpy-1.19.1:\n",
      "      Successfully uninstalled numpy-1.19.1\n",
      "  Attempting uninstall: grpcio\n",
      "    Found existing installation: grpcio 1.31.0\n",
      "    Uninstalling grpcio-1.31.0:\n",
      "      Successfully uninstalled grpcio-1.31.0\n",
      "  Attempting uninstall: tensorboard\n",
      "    Found existing installation: tensorboard 2.1.0\n",
      "    Uninstalling tensorboard-2.1.0:\n",
      "      Successfully uninstalled tensorboard-2.1.0\n",
      "  Attempting uninstall: h5py\n",
      "    Found existing installation: h5py 2.10.0\n",
      "    Uninstalling h5py-2.10.0:\n",
      "      Successfully uninstalled h5py-2.10.0\n",
      "Successfully installed astunparse-1.6.3 cached-property-1.5.2 flatbuffers-1.12 gast-0.4.0 google-pasta-0.2.0 grpcio-1.34.1 h5py-3.1.0 keras-nightly-2.5.0.dev2021032900 keras-preprocessing-1.1.2 numpy-1.19.5 opt-einsum-3.3.0 tensorboard-2.5.0 tensorboard-data-server-0.6.1 tensorboard-plugin-wit-1.8.0 tensorflow-2.5.0 tensorflow-estimator-2.5.0 termcolor-1.1.0 wrapt-1.12.1\n"
     ]
    }
   ],
   "source": [
    "!pip install gensim==3.4.0\n",
    "!pip install tqdm>=2.0.0\n",
    "!pip install pyfasta==0.5.2\n",
    "!pip install numpy>=1.18.1\n",
    "!pip install Biopython\n",
    "!pip install tensorflow"
   ]
  },
  {
   "cell_type": "code",
   "execution_count": 2,
   "metadata": {},
   "outputs": [],
   "source": [
    "from Bio import SeqIO\n",
    "import sys\n",
    "import numpy as np\n",
    "from sklearn.cluster import KMeans\n",
    "from sklearn.manifold import TSNE\n",
    "from sklearn.decomposition import PCA\n",
    "import matplotlib.pyplot as plt\n",
    "import pandas as pd\n",
    "from collections import Counter\n",
    "import numpy as np\n",
    "import seaborn as sns\n",
    "from mpl_toolkits.mplot3d import Axes3D\n",
    "import os"
   ]
  },
  {
   "cell_type": "code",
   "execution_count": 13,
   "metadata": {},
   "outputs": [
    {
     "name": "stdout",
     "output_type": "stream",
     "text": [
      "Si comincia!\n",
      "fine\n"
     ]
    }
   ],
   "source": [
    "import os\n",
    "import numpy as np\n",
    "print('Si comincia!')\n",
    "matrices = []\n",
    "labels = []\n",
    "sequences=[]\n",
    "n = 0\n",
    "seq_len = 1000\n",
    "root = 'Fastas'\n",
    "numbers=[]\n",
    "\n",
    "with open('fastas.fasta','+w') as g:\n",
    " \n",
    "    for el in list(os.listdir(root)):\n",
    "\n",
    "      name_fa = root+'/'+el+'/'+el+'.fa'\n",
    "\n",
    "      if os.path.isfile(name_fa):\n",
    "          numbers.append(int(el.split('_')[0]))\n",
    "          with open(name_fa, 'r') as f:\n",
    "              \n",
    "              header = str(f.readlines())\n",
    "              label = (header.split(',')[1]).split(':')[1]\n",
    "              labels.append(label)\n",
    "\n",
    "              sequence=header.split(',')[14]\n",
    "              sequence=str(sequence[3:-2])\n",
    "              #print(len(sequence))\n",
    "              protein_len=len(sequence)\n",
    "\n",
    "              \n",
    "              g.writelines(f'>{sequence}\\n')\n",
    "              g.writelines(f'{sequence}\\n')\n",
    "              sequences.append(sequence)\n",
    "\n",
    "    print('fine')\n",
    "    \n",
    "\n"
   ]
  },
  {
   "cell_type": "code",
   "execution_count": 9,
   "metadata": {},
   "outputs": [
    {
     "name": "stdout",
     "output_type": "stream",
     "text": [
      "...................................................................................................................................................................................................................................................................................................................................................................................................................................................................................................................................................................................................................................................................................................................................................................................................................................................................................................................................................................................................................................................................................................................................................................................................................................................................................................................................................................................................................................................................................................................................................................................................................................................................................................................................................................................................................................................................................................................................................................................................................................................................................................................................................................................................................................................................................................................................................................................................................................................................................................................................................................................................................................................................................................................................................................................................................................................................................................................................................................................................................................................................................................................................................................................................................................................................................................................................................................................................................................................................................................................................................................................................................................................................................................................................................................................................................................................................................................................................................................................................................................................................................................................................................................................................................................................................................................................................................................................................................................................................................................................................................................................................................................................................................................................................................................................................................................................................................................................................................................................................................................................................................................................................."
     ]
    },
    {
     "name": "stderr",
     "output_type": "stream",
     "text": [
      "/opt/conda/lib/python3.7/site-packages/ipykernel_launcher.py:53: RuntimeWarning: invalid value encountered in true_divide\n"
     ]
    }
   ],
   "source": [
    "def split_ngrams(seq, n):\n",
    "    a, b, c = zip(*[iter(seq)]*n), zip(*[iter(seq[1:])]*n), zip(*[iter(seq[2:])]*n)\n",
    "    str_ngrams = []\n",
    "    for ngrams in [a,b,c]:\n",
    "        x = []\n",
    "        for ngram in ngrams:\n",
    "            x.append(\"\".join(ngram))\n",
    "        str_ngrams.append(x)\n",
    "    return str_ngrams\n",
    "\n",
    "    f.close()\n",
    "\n",
    "       \n",
    "def get_ngram_vectors_l(file_path):\n",
    "    ngram_vectors = {}\n",
    "    vector_length = None\n",
    "     \n",
    "    with open(file_path) as infile:\n",
    "        \n",
    "        for line in infile:\n",
    "            \n",
    "            line_parts = line.rstrip().split()   \n",
    "            # skip first line with metadata in word2vec text file format\n",
    "            if len(line_parts) > 2:  \n",
    "                \n",
    "                ngram, vector_values = line_parts[0], line_parts[1:]          \n",
    "                ngram_vectors[ngram] = (np.array(list(map(lambda x: x, vector_values)))).astype(float)\n",
    "    \n",
    "    return ngram_vectors\n",
    "\n",
    "\n",
    " \n",
    "input_path='fastas.fasta'\n",
    "out_path='prova.txt'\n",
    "with open(out_path,'+w') as f:\n",
    "    for r in SeqIO.parse(input_path, \"fasta\"):\n",
    "        ngram_patterns = split_ngrams(r.seq, 3)\n",
    "        for ngram_pattern in ngram_patterns:\n",
    "            f.write(\" \".join(ngram_pattern) + \"\\n\")\n",
    "            sys.stdout.write(\".\")\n",
    "\n",
    "#VFL VLL PLV SSQ CVN LTT RTQ LPP AYT NSF TRG VYY PDK VFR SSV LHS TQD LFL PFF SNV TWF HAI --S GTN GTK RFD NPV LPF NDG VYF AST EKS NII RGW IFG TTL DSK TQS LLI VNN ATN VVI KVC EFQ FCN DPF LGV -YH KNN KSW MES EFR VYS SAN NCT FEY VSQ PFL MDL EGK QGN FKN LRE FVF KNI DGY FKI YSK HTP INL VRD LPQ GFS ALE PLV DLP IGI NIT RFQ TLL ALH RSY LTP GDS FSG WTA GAA AYY VGY LQP RTF LLK YNE NGT ITD AVD CAL DPL SET KCT LKS FTV EKG IYQ TSN FRV QPT ESI VRF PNI TNL CPF GEV FNA TRF ASV YAW NRK RIS NCV ADY SVL YNS ASF STF KCY GVS PTK LND LCF TNV YAD SFV IRG DEV RQI APG QTG KIA DYN YKL PDD FTG CVI AWN SNN LDS KVG GNY NYL YRL FRK SNL KPF ERD IST EIY QAG STP CNG VEG FNC YFP LQS YGF QPT YGV GYQ PYR VVV LSF ELL HAP ATV CGP KKS TNL VKN KCV NFN FNG LTG TGV LTE SNK KFL PFQ QFG RDI DDT TDA VRD PQT LEI LDI TPC SFG GVS VIT PGT NTS NQV AVL YQG VNC TEV PLA IHA DQL TPT WRV YST GSN VFQ TRA GCL IGA EHV NNS YEC DIP IGA GIC ASY QTQ TNS HRR ARS VAS QSI IAY TMS LGA ENS VAY SNN SIA IPI NFT ISV TTE ILP VSM TKT SVD CTM YIC GDS TEC SNL LLQ YGS FCT QLN RAL TGI AVE QDK NTQ EVF AQV KQI YKT PPI KDF GGF NFS QIL PDP SKP SKR SFI EDL LFN KVT LAD AGF IKQ YGD CLG DIA ARD LIC AQK FNG LTV LPP LLT DEM IAQ YTS ALL AGT ITS GWT FGA GAA LQI PFA MQM AYR FNG IGV TQN VLY ENQ KLI ANQ FNS AIG KIQ DSL SST ASA LGK LQD VVN QNA QAL NTL VKQ LSS NFG AIS SVL NDI LAR LDK VEA EVQ IDR LIT GRL QSL QTY VTQ QLI RAA EIR ASA NLA ATK MSE CVL GQS KRV DFC GKG YHL MSF PQS APH GVV FLH VTY VPA QEK NFT TAP AIC HDG KAH FPR EGV FVS NGT HWF VTQ RNF YEP QII TTH NTF VSG NCD VVI GIV NNT VYD PLQ PEL DSF KEE LDK YFK NHT SPD VDL GDI SGI NAS VVN IQK EID RLN EVA KNL NES LID LQE LGK YEQ YIK WPW YIW LGF IAG LIA IVM VTI MLC CMT SCC SCL KGC CSC GSC CKF DED DSE PVL KGV KLH\n",
    "\n",
    "#MFV FLV LLP LVS SQC VNL TTR TQL PPA YTN SFT RGV YYP DKV FRS SVL HST QDL FLP FFS NVT WFH AI- -SG TNG TKR FDN PVL PFN DGV YFA STE KSN IIR GWI FGT TLD SKT QSL LIV NNA TNV VIK VCE FQF CND PFL GV- YHK NNK SWM ESE FRV YSS ANN CTF EYV SQP FLM DLE GKQ GNF KNL REF VFK NID GYF KIY SKH TPI NLV RDL PQG FSA LEP LVD LPI GIN ITR FQT LLA LHR SYL TPG DSS SGW TAG AAA YYV GYL QPR TFL LKY NEN GTI TDA VDC ALD PLS ETK CTL KSF TVE KGI YQT SNF RVQ PTE SIV RFP NIT NLC PFG EVF NAT RFA SVY AWN RKR ISN CVA DYS VLY NSA SFS TFK CYG VSP TKL NDL CFT NVY ADS FVI RGD EVR QIA PGQ TGK IAD YNY KLP DDF TGC VIA WNS NNL DSK VGG NYN YLY RLF RKS NLK PFE RDI STE IYQ AGS TPC NGF EGF NCY FPL QSY GFQ PTY GVG YQP YRV VVL SFE LLH APA TVC GPK KST NLV KNK CVN FNF NGL TGT GVL TES NKK FLP FQQ FGR DID DTT DAV RDP QTL EIL DIT PCS FGG VSV ITP GTN TSN QVA VLY QGV NCT EVP VAI HAD QLT PTW RVY STG SNV FQT RAG CLI GAE HVN NSY ECD IPI GAG ICA SYQ TQI NSH RRA RSV ASQ SII AYT MSL GAE NSV AYS NNS IAI PIN FTI SVT TEI LPV SMT KTS VDC TMY ICG DST ECS NLL LQY GSF CTQ LNR ALT GIA VEQ DKN TQE VFA QVK QIY KTP PIK DFG GFN FSQ ILP DPS KPS KRS FIE DLL FNK VTL ADA GFI KQY GDC LGD IAA RDL ICA QKF NGL TVL PPL LTD EMI AQY TSA LLA GTI TSG WTF GAG AAL QIP FAM QMA YRF NGI GVT QNV LYE NQK LIA NQF NSA IGK IQD SLS STA SAL GKL QDV VNQ NAQ ALN TLV KQL SSN FGA ISS VLN DIL ARL DKV EAE VQI DRL ITG RLQ SLQ TYV TQQ LIR AAE IRA SAN LAA TKM SEC VLG QSK RVD FCG KGY HLM SFP QSA PHG VVF LHV TYV PAQ EKN FTT APA ICH DGK AHF PRE GVF VSN GTH WFV TQR NFY EPQ IIT THN TFV SGN CDV VIG IVN NTV YDP LQP ELD SFK EEL DKY FKN HTS PDV DLG DIS GIN ASV VNI QKE IDR LNE VAK NLN ESL IDL QEL GKY EQY IKW PWY IWL GFI AGL IAI VMV TIM LCC MTS CCS CLK GCC SCG SCC KFD EDD SEP VLK GVK LHY\n",
    "from gensim.models import word2vec\n",
    "corpus=word2vec.Text8Corpus(out_path)\n",
    "\n",
    "model = word2vec.Word2Vec([line.rstrip().split() for line in open('prova.txt')], min_count = 1, size=100, sg=1, window=25,workers=3)\n",
    "model.wv.save_word2vec_format('prova2.txt')\n",
    "n_gram_vec=get_ngram_vectors_l('prova2.txt')\n",
    "\n",
    "def normalize(x):\n",
    "    return x / np.sqrt(np.dot(x, x))\n",
    "\n",
    "def to_vecs(seq, ngram_vectors):\n",
    "        ngrams_seq = split_ngrams(seq, 3)\n",
    "\n",
    "\n",
    "        protvec = np.zeros(100, dtype=np.float32)\n",
    "        for index in range(len(seq) + 1 - 3):\n",
    "            ngram = seq[index:index + 3]\n",
    "            if ngram in ngram_vectors:\n",
    "                ngram_vector = ngram_vectors[ngram]\n",
    "                protvec += ngram_vector\n",
    "        return normalize(protvec)\n",
    "\n",
    "def make_protein_vector_for_uniprot(fasta_file, protein_vector_fname, ngram_vectors):\n",
    "    \n",
    "    with open(protein_vector_fname, 'w') as output_file:\n",
    "        for record in SeqIO.parse(fasta_file, \"fasta\"):\n",
    "            protein_name = record.name.split('|')[-1]\n",
    "            protein_vector = to_vecs(record.seq, ngram_vectors)\n",
    "\n",
    "            output_file.write('{}\\t{}\\n'.format(protein_name, ' '.join(map(str, protein_vector))))\n",
    "\n",
    "make_protein_vector_for_uniprot(input_path,'results.txt',n_gram_vec)"
   ]
  },
  {
   "cell_type": "code",
   "execution_count": 14,
   "metadata": {},
   "outputs": [
    {
     "name": "stdout",
     "output_type": "stream",
     "text": [
      "\tnan nan nan nan nan nan nan nan nan nan nan nan nan nan nan nan nan nan nan nan nan nan nan nan nan nan nan nan nan nan nan nan nan nan nan nan nan nan nan nan nan nan nan nan nan nan nan nan nan nan nan nan nan nan nan nan nan nan nan nan nan nan nan nan nan nan nan nan nan nan nan nan nan nan nan nan nan nan nan nan nan nan nan nan nan nan nan nan nan nan nan nan nan nan nan nan nan nan nan nan\n",
      "\n",
      "\tnan nan nan nan nan nan nan nan nan nan nan nan nan nan nan nan nan nan nan nan nan nan nan nan nan nan nan nan nan nan nan nan nan nan nan nan nan nan nan nan nan nan nan nan nan nan nan nan nan nan nan nan nan nan nan nan nan nan nan nan nan nan nan nan nan nan nan nan nan nan nan nan nan nan nan nan nan nan nan nan nan nan nan nan nan nan nan nan nan nan nan nan nan nan nan nan nan nan nan nan\n",
      "\n"
     ]
    }
   ],
   "source": [
    "data=[]\n",
    "proteins=[]\n",
    "cnt=0\n",
    "l=[]\n",
    "with open('results.txt') as f:\n",
    "    for row in f:\n",
    "        \n",
    "        try:\n",
    "            proteins.append(row.split('\\t')[0])\n",
    "            \n",
    "            features=(row.strip().split('\\t')[1])#.split(' ')\n",
    "            #features=np.array(features).astype(float)\n",
    "            l.append(int(labels[cnt]))\n",
    "            data.append(features)\n",
    "        except:\n",
    "            print(row)\n",
    "        cnt+=1\n",
    "\n",
    "\n"
   ]
  },
  {
   "cell_type": "code",
   "execution_count": 15,
   "metadata": {},
   "outputs": [],
   "source": [
    "data=[x.split(' ') for x in data]\n",
    "dataset=[np.array(x).astype(float) for x in data]"
   ]
  },
  {
   "cell_type": "code",
   "execution_count": 26,
   "metadata": {},
   "outputs": [],
   "source": [
    "from sklearn.model_selection import train_test_split\n",
    "from sklearn.ensemble import RandomForestClassifier\n",
    "from sklearn.model_selection import cross_validate\n",
    "from sklearn.model_selection import GridSearchCV\n",
    "from sklearn.metrics import accuracy_score\n",
    "from sklearn.metrics import confusion_matrix\n",
    "import seaborn as sns\n",
    "import matplotlib.pyplot as plt\n",
    "from sklearn.svm import SVC\n",
    "import os\n",
    "import numpy as np\n",
    "from sklearn.svm import LinearSVC\n",
    "from sklearn.decomposition import PCA"
   ]
  },
  {
   "cell_type": "code",
   "execution_count": 28,
   "metadata": {},
   "outputs": [
    {
     "name": "stdout",
     "output_type": "stream",
     "text": [
      "For Random Forest\n",
      "RandomForestClassifier(bootstrap=False, random_state=1)\n",
      "0.9307136247975943\n",
      "On the test set :0.9179331306990881\n"
     ]
    },
    {
     "data": {
      "image/png": "[encoded data removed]",
      "text/plain": [
       "<Figure size 360x360 with 2 Axes>"
      ]
     },
     "metadata": {
      "needs_background": "light"
     },
     "output_type": "display_data"
    }
   ],
   "source": [
    "X_train,X_test, y_train,y_test= train_test_split(dataset,l, stratify=l, test_size=0.2)\n",
    "model=RandomForestClassifier()\n",
    "params = {\n",
    "        'criterion': [\"gini\", \"entropy\"],\n",
    "        'max_features': [\"auto\", \"sqrt\", \"log2\"],\n",
    "        'random_state': [1],\n",
    "        'bootstrap': [True, False]\n",
    "    }\n",
    "print(f'For Random Forest')\n",
    "clf = GridSearchCV(model, params,cv=10)\n",
    "clf.fit(X_train, y_train)\n",
    "print(clf.best_estimator_)\n",
    "print(clf.best_score_)\n",
    "y_pred=clf.predict(X_test)\n",
    "print(f'On the test set :{accuracy_score(y_test,y_pred)}')\n",
    "fig,ax= plt.subplots(figsize=(5,5))\n",
    "sns.heatmap(confusion_matrix(y_test,y_pred),annot=True)\n",
    "plt.xlabel('True')\n",
    "plt.ylabel('Predicted')\n",
    "plt.savefig('encoding/conf_matrix_rf.png')\n",
    "plt.show()"
   ]
  },
  {
   "cell_type": "code",
   "execution_count": 29,
   "metadata": {},
   "outputs": [
    {
     "name": "stdout",
     "output_type": "stream",
     "text": [
      "For linear SVC\n"
     ]
    },
    {
     "name": "stderr",
     "output_type": "stream",
     "text": [
      "/opt/conda/lib/python3.7/site-packages/sklearn/svm/_base.py:977: ConvergenceWarning: Liblinear failed to converge, increase the number of iterations.\n",
      "  \"the number of iterations.\", ConvergenceWarning)\n",
      "/opt/conda/lib/python3.7/site-packages/sklearn/svm/_base.py:977: ConvergenceWarning: Liblinear failed to converge, increase the number of iterations.\n",
      "  \"the number of iterations.\", ConvergenceWarning)\n",
      "/opt/conda/lib/python3.7/site-packages/sklearn/svm/_base.py:977: ConvergenceWarning: Liblinear failed to converge, increase the number of iterations.\n",
      "  \"the number of iterations.\", ConvergenceWarning)\n",
      "/opt/conda/lib/python3.7/site-packages/sklearn/svm/_base.py:977: ConvergenceWarning: Liblinear failed to converge, increase the number of iterations.\n",
      "  \"the number of iterations.\", ConvergenceWarning)\n",
      "/opt/conda/lib/python3.7/site-packages/sklearn/svm/_base.py:977: ConvergenceWarning: Liblinear failed to converge, increase the number of iterations.\n",
      "  \"the number of iterations.\", ConvergenceWarning)\n",
      "/opt/conda/lib/python3.7/site-packages/sklearn/svm/_base.py:977: ConvergenceWarning: Liblinear failed to converge, increase the number of iterations.\n",
      "  \"the number of iterations.\", ConvergenceWarning)\n",
      "/opt/conda/lib/python3.7/site-packages/sklearn/svm/_base.py:977: ConvergenceWarning: Liblinear failed to converge, increase the number of iterations.\n",
      "  \"the number of iterations.\", ConvergenceWarning)\n",
      "/opt/conda/lib/python3.7/site-packages/sklearn/svm/_base.py:977: ConvergenceWarning: Liblinear failed to converge, increase the number of iterations.\n",
      "  \"the number of iterations.\", ConvergenceWarning)\n",
      "/opt/conda/lib/python3.7/site-packages/sklearn/svm/_base.py:977: ConvergenceWarning: Liblinear failed to converge, increase the number of iterations.\n",
      "  \"the number of iterations.\", ConvergenceWarning)\n",
      "/opt/conda/lib/python3.7/site-packages/sklearn/svm/_base.py:977: ConvergenceWarning: Liblinear failed to converge, increase the number of iterations.\n",
      "  \"the number of iterations.\", ConvergenceWarning)\n"
     ]
    },
    {
     "name": "stdout",
     "output_type": "stream",
     "text": [
      "LinearSVC(C=10)\n",
      "0.8964434420541292\n",
      "On the test set :0.8905775075987842\n"
     ]
    },
    {
     "data": {
      "image/png": "[encoded data removed]",
      "text/plain": [
       "<Figure size 576x576 with 2 Axes>"
      ]
     },
     "metadata": {
      "needs_background": "light"
     },
     "output_type": "display_data"
    }
   ],
   "source": [
    "model= LinearSVC()\n",
    "params = {\n",
    "    \n",
    "    'C' : [0.0001, 0.1, 1, 10, 1000],\n",
    "    \n",
    "}\n",
    "print(f'For linear SVC')\n",
    "clf = GridSearchCV(model, params,cv=10)\n",
    "clf.fit(X_train, y_train)\n",
    "print(clf.best_estimator_)\n",
    "print(clf.best_score_)\n",
    "y_pred=clf.predict(X_test)\n",
    "print(f'On the test set :{accuracy_score(y_test,y_pred)}')\n",
    "fig,ax= plt.subplots(figsize=(8,8))\n",
    "sns.heatmap(confusion_matrix(y_test,y_pred),annot=True)\n",
    "plt.xlabel('True')\n",
    "plt.ylabel('Predicted')\n",
    "plt.savefig('encoding/conf_matrix_linearsvc.png')\n",
    "plt.show()"
   ]
  },
  {
   "cell_type": "code",
   "execution_count": 30,
   "metadata": {},
   "outputs": [
    {
     "name": "stdout",
     "output_type": "stream",
     "text": [
      "For SVC\n",
      "SVC(C=10000, gamma=0.1)\n",
      "0.9063034929447144\n",
      "On the test set :0.8936170212765957\n"
     ]
    },
    {
     "data": {
      "image/png": "[encoded data removed]",
      "text/plain": [
       "<Figure size 576x576 with 2 Axes>"
      ]
     },
     "metadata": {
      "needs_background": "light"
     },
     "output_type": "display_data"
    }
   ],
   "source": [
    "model= SVC()\n",
    "params = {\n",
    "    \n",
    "    'C' : [ 0.01, 0.1, 1, 10, 1000,10000],\n",
    "    'gamma': [0.001,0.1,1,1000]\n",
    "}\n",
    "print(f'For SVC')\n",
    "clf = GridSearchCV(model, params,cv=10)\n",
    "clf.fit(X_train, y_train)\n",
    "print(clf.best_estimator_)\n",
    "print(clf.best_score_)\n",
    "y_pred=clf.predict(X_test)\n",
    "print(f'On the test set :{accuracy_score(y_test,y_pred)}')\n",
    "fig,ax= plt.subplots(figsize=(8,8))\n",
    "sns.heatmap(confusion_matrix(y_test,y_pred),annot=True)\n",
    "plt.xlabel('True')\n",
    "plt.ylabel('Predicted')\n",
    "plt.savefig('encoding/conf_matrix_svc.png')\n",
    "plt.show()"
   ]
  },
  {
   "cell_type": "code",
   "execution_count": 47,
   "metadata": {},
   "outputs": [
    {
     "name": "stdout",
     "output_type": "stream",
     "text": [
      "ciao\n",
      "ciao\n"
     ]
    }
   ],
   "source": [
    "with open('dataset.txt', '+w') as f:\n",
    "    for i,el in enumerate(proteins):\n",
    "        try:\n",
    "            f.write(f'{proteins[i]},{l[i]},{dataset[i]} \\n')\n",
    "        except:\n",
    "            print('ciao')"
   ]
  },
  {
   "cell_type": "code",
   "execution_count": null,
   "metadata": {},
   "outputs": [],
   "source": []
  }
 ],
 "metadata": {
  "kernelspec": {
   "display_name": "Python 3",
   "language": "python",
   "name": "python3"
  },
  "language_info": {
   "codemirror_mode": {
    "name": "ipython",
    "version": 3
   },
   "file_extension": ".py",
   "mimetype": "text/x-python",
   "name": "python",
   "nbconvert_exporter": "python",
   "pygments_lexer": "ipython3",
   "version": "3.7.8"
  }
 },
 "nbformat": 4,
 "nbformat_minor": 4
}
